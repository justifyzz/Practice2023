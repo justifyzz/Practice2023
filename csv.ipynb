{
 "cells": [
  {
   "cell_type": "code",
   "execution_count": 1,
   "metadata": {},
   "outputs": [],
   "source": [
    "input_paths=[r\"C:\\Users\\Adil\\Desktop\\Practice\\senergy\\raw\\[IN-023C]\\2023\\2023-03\\\\\",\n",
    "            r\"C:\\Users\\Adil\\Desktop\\Practice\\senergy\\raw\\[IN-023C]\\2023\\2023-03\\\\\"]"
   ]
  },
  {
   "cell_type": "code",
   "execution_count": 2,
   "metadata": {},
   "outputs": [
    {
     "data": {
      "text/plain": [
       "['C:\\\\Users\\\\Adil\\\\Desktop\\\\Practice\\\\senergy\\\\output\\\\[IN-023C]\\\\2023\\\\2023-02\\\\\\\\',\n",
       " 'C:\\\\Users\\\\Adil\\\\Desktop\\\\Practice\\\\senergy\\\\output\\\\[IN-023C]\\\\2023\\\\2023-03\\\\\\\\']"
      ]
     },
     "execution_count": 2,
     "metadata": {},
     "output_type": "execute_result"
    }
   ],
   "source": [
    "output_paths=[x.replace(\"raw\",\"output\") for x in input_paths]\n",
    "output_paths"
   ]
  },
  {
   "cell_type": "code",
   "execution_count": 3,
   "metadata": {},
   "outputs": [],
   "source": [
    "import os\n",
    "import pandas as pd\n",
    "import numpy as np"
   ]
  },
  {
   "cell_type": "code",
   "execution_count": 4,
   "metadata": {},
   "outputs": [],
   "source": [
    "def configure_dataset_directory(dataset_dir):\n",
    "    for x in dataset_dir:\n",
    "        try: \n",
    "          mkdir = 'mkdir {0}'.format(x)\n",
    "          os.system(mkdir)\n",
    "        except:\n",
    "          pass"
   ]
  },
  {
   "cell_type": "code",
   "execution_count": 5,
   "metadata": {},
   "outputs": [],
   "source": [
    "meters=['Inverter_1','Inverter_2','MFM','WMS']"
   ]
  },
  {
   "cell_type": "code",
   "execution_count": 6,
   "metadata": {},
   "outputs": [
    {
     "data": {
      "text/plain": [
       "['C:\\\\Users\\\\Adil\\\\Desktop\\\\Practice\\\\senergy\\\\output\\\\[IN-023C]\\\\2023\\\\2023-02\\\\\\\\Inverter_1',\n",
       " 'C:\\\\Users\\\\Adil\\\\Desktop\\\\Practice\\\\senergy\\\\output\\\\[IN-023C]\\\\2023\\\\2023-02\\\\\\\\Inverter_2',\n",
       " 'C:\\\\Users\\\\Adil\\\\Desktop\\\\Practice\\\\senergy\\\\output\\\\[IN-023C]\\\\2023\\\\2023-02\\\\\\\\MFM',\n",
       " 'C:\\\\Users\\\\Adil\\\\Desktop\\\\Practice\\\\senergy\\\\output\\\\[IN-023C]\\\\2023\\\\2023-02\\\\\\\\WMS',\n",
       " 'C:\\\\Users\\\\Adil\\\\Desktop\\\\Practice\\\\senergy\\\\output\\\\[IN-023C]\\\\2023\\\\2023-03\\\\\\\\Inverter_1',\n",
       " 'C:\\\\Users\\\\Adil\\\\Desktop\\\\Practice\\\\senergy\\\\output\\\\[IN-023C]\\\\2023\\\\2023-03\\\\\\\\Inverter_2',\n",
       " 'C:\\\\Users\\\\Adil\\\\Desktop\\\\Practice\\\\senergy\\\\output\\\\[IN-023C]\\\\2023\\\\2023-03\\\\\\\\MFM',\n",
       " 'C:\\\\Users\\\\Adil\\\\Desktop\\\\Practice\\\\senergy\\\\output\\\\[IN-023C]\\\\2023\\\\2023-03\\\\\\\\WMS']"
      ]
     },
     "execution_count": 6,
     "metadata": {},
     "output_type": "execute_result"
    }
   ],
   "source": [
    "dir_list=[]\n",
    "for i in output_paths:\n",
    "    for j in meters:\n",
    "        dir_list.append(i+j)\n",
    "dir_list"
   ]
  },
  {
   "cell_type": "code",
   "execution_count": 7,
   "metadata": {},
   "outputs": [
    {
     "name": "stdout",
     "output_type": "stream",
     "text": [
      "Successfully created required output directories\n"
     ]
    }
   ],
   "source": [
    "configure_dataset_directory(dir_list)\n",
    "print('Successfully created required output directories')"
   ]
  },
  {
   "cell_type": "code",
   "execution_count": 8,
   "metadata": {},
   "outputs": [
    {
     "data": {
      "text/plain": [
       "['New Text Document (3).txt',\n",
       " 'New Text Document (4).txt',\n",
       " 'New Text Document.txt',\n",
       " 'prep.txt']"
      ]
     },
     "execution_count": 8,
     "metadata": {},
     "output_type": "execute_result"
    }
   ],
   "source": [
    "def get_csv(path):\n",
    "    files=csv_files=[]\n",
    "    for file in os.listdir(path+'\\\\'):\n",
    "        if file.endswith(\".txt\"):\n",
    "            csv_files.append(file)\n",
    "    \n",
    "    return csv_files"
   ]
  },
  {
   "cell_type": "code",
   "execution_count": 9,
   "metadata": {},
   "outputs": [
    {
     "data": {
      "text/html": [
       "<div>\n",
       "<style scoped>\n",
       "    .dataframe tbody tr th:only-of-type {\n",
       "        vertical-align: middle;\n",
       "    }\n",
       "\n",
       "    .dataframe tbody tr th {\n",
       "        vertical-align: top;\n",
       "    }\n",
       "\n",
       "    .dataframe thead th {\n",
       "        text-align: right;\n",
       "    }\n",
       "</style>\n",
       "<table border=\"1\" class=\"dataframe\">\n",
       "  <thead>\n",
       "    <tr style=\"text-align: right;\">\n",
       "      <th></th>\n",
       "      <th>Tstamp</th>\n",
       "      <th>Inverter_Id</th>\n",
       "      <th>Fb_Id</th>\n",
       "      <th>DTT</th>\n",
       "      <th>Device_Time</th>\n",
       "      <th>SES</th>\n",
       "      <th>Salve_Id</th>\n",
       "      <th>Function_Code</th>\n",
       "      <th>AC_Voltage_Line1</th>\n",
       "      <th>AC_Voltage_Line2</th>\n",
       "      <th>...</th>\n",
       "      <th>AC_Current_Totoal</th>\n",
       "      <th>AC_Volatge_RY</th>\n",
       "      <th>AC_Volatge_YB</th>\n",
       "      <th>AC_Volatge_BR</th>\n",
       "      <th>Apparent_Power</th>\n",
       "      <th>Event_Flag_1</th>\n",
       "      <th>Event_Flag_2</th>\n",
       "      <th>Event_Flag_3</th>\n",
       "      <th>Event_Flag_4</th>\n",
       "      <th>Coolent_Temp</th>\n",
       "    </tr>\n",
       "  </thead>\n",
       "  <tbody>\n",
       "    <tr>\n",
       "      <th>0</th>\n",
       "      <td>2023-02-01 00:00:00</td>\n",
       "      <td>2.0</td>\n",
       "      <td>CT08</td>\n",
       "      <td>1.0</td>\n",
       "      <td>2023-02-01 00:00:04</td>\n",
       "      <td>0.0</td>\n",
       "      <td>1.0</td>\n",
       "      <td>3.0</td>\n",
       "      <td>0.0</td>\n",
       "      <td>0.0</td>\n",
       "      <td>...</td>\n",
       "      <td>0.0</td>\n",
       "      <td>0.0</td>\n",
       "      <td>0.0</td>\n",
       "      <td>0.0</td>\n",
       "      <td>0.0</td>\n",
       "      <td>0.0</td>\n",
       "      <td>0.0</td>\n",
       "      <td>0.0</td>\n",
       "      <td>0.0</td>\n",
       "      <td>34.0</td>\n",
       "    </tr>\n",
       "    <tr>\n",
       "      <th>1</th>\n",
       "      <td>2023-02-01 00:05:00</td>\n",
       "      <td>2.0</td>\n",
       "      <td>CT08</td>\n",
       "      <td>1.0</td>\n",
       "      <td>2023-02-01 00:04:04</td>\n",
       "      <td>0.0</td>\n",
       "      <td>1.0</td>\n",
       "      <td>3.0</td>\n",
       "      <td>0.0</td>\n",
       "      <td>0.0</td>\n",
       "      <td>...</td>\n",
       "      <td>0.0</td>\n",
       "      <td>0.0</td>\n",
       "      <td>0.0</td>\n",
       "      <td>0.0</td>\n",
       "      <td>0.0</td>\n",
       "      <td>0.0</td>\n",
       "      <td>0.0</td>\n",
       "      <td>0.0</td>\n",
       "      <td>0.0</td>\n",
       "      <td>34.0</td>\n",
       "    </tr>\n",
       "    <tr>\n",
       "      <th>2</th>\n",
       "      <td>2023-02-01 00:10:00</td>\n",
       "      <td>2.0</td>\n",
       "      <td>CT08</td>\n",
       "      <td>1.0</td>\n",
       "      <td>2023-02-01 00:10:14</td>\n",
       "      <td>0.0</td>\n",
       "      <td>1.0</td>\n",
       "      <td>3.0</td>\n",
       "      <td>0.0</td>\n",
       "      <td>0.0</td>\n",
       "      <td>...</td>\n",
       "      <td>0.0</td>\n",
       "      <td>0.0</td>\n",
       "      <td>0.0</td>\n",
       "      <td>0.0</td>\n",
       "      <td>0.0</td>\n",
       "      <td>0.0</td>\n",
       "      <td>0.0</td>\n",
       "      <td>0.0</td>\n",
       "      <td>0.0</td>\n",
       "      <td>34.0</td>\n",
       "    </tr>\n",
       "    <tr>\n",
       "      <th>3</th>\n",
       "      <td>2023-02-01 00:15:00</td>\n",
       "      <td>2.0</td>\n",
       "      <td>CT08</td>\n",
       "      <td>1.0</td>\n",
       "      <td>2023-02-01 00:15:33</td>\n",
       "      <td>0.0</td>\n",
       "      <td>1.0</td>\n",
       "      <td>3.0</td>\n",
       "      <td>0.0</td>\n",
       "      <td>0.0</td>\n",
       "      <td>...</td>\n",
       "      <td>0.0</td>\n",
       "      <td>0.0</td>\n",
       "      <td>0.0</td>\n",
       "      <td>0.0</td>\n",
       "      <td>0.0</td>\n",
       "      <td>0.0</td>\n",
       "      <td>0.0</td>\n",
       "      <td>0.0</td>\n",
       "      <td>0.0</td>\n",
       "      <td>34.0</td>\n",
       "    </tr>\n",
       "    <tr>\n",
       "      <th>4</th>\n",
       "      <td>2023-02-01 00:20:00</td>\n",
       "      <td>2.0</td>\n",
       "      <td>CT08</td>\n",
       "      <td>1.0</td>\n",
       "      <td>2023-02-01 00:20:53</td>\n",
       "      <td>0.0</td>\n",
       "      <td>1.0</td>\n",
       "      <td>3.0</td>\n",
       "      <td>0.0</td>\n",
       "      <td>0.0</td>\n",
       "      <td>...</td>\n",
       "      <td>0.0</td>\n",
       "      <td>0.0</td>\n",
       "      <td>0.0</td>\n",
       "      <td>0.0</td>\n",
       "      <td>0.0</td>\n",
       "      <td>0.0</td>\n",
       "      <td>0.0</td>\n",
       "      <td>0.0</td>\n",
       "      <td>0.0</td>\n",
       "      <td>34.0</td>\n",
       "    </tr>\n",
       "  </tbody>\n",
       "</table>\n",
       "<p>5 rows × 54 columns</p>\n",
       "</div>"
      ],
      "text/plain": [
       "                Tstamp  Inverter_Id Fb_Id  DTT          Device_Time  SES  \\\n",
       "0  2023-02-01 00:00:00          2.0  CT08  1.0  2023-02-01 00:00:04  0.0   \n",
       "1  2023-02-01 00:05:00          2.0  CT08  1.0  2023-02-01 00:04:04  0.0   \n",
       "2  2023-02-01 00:10:00          2.0  CT08  1.0  2023-02-01 00:10:14  0.0   \n",
       "3  2023-02-01 00:15:00          2.0  CT08  1.0  2023-02-01 00:15:33  0.0   \n",
       "4  2023-02-01 00:20:00          2.0  CT08  1.0  2023-02-01 00:20:53  0.0   \n",
       "\n",
       "   Salve_Id  Function_Code  AC_Voltage_Line1  AC_Voltage_Line2  ...  \\\n",
       "0       1.0            3.0               0.0               0.0  ...   \n",
       "1       1.0            3.0               0.0               0.0  ...   \n",
       "2       1.0            3.0               0.0               0.0  ...   \n",
       "3       1.0            3.0               0.0               0.0  ...   \n",
       "4       1.0            3.0               0.0               0.0  ...   \n",
       "\n",
       "   AC_Current_Totoal  AC_Volatge_RY  AC_Volatge_YB  AC_Volatge_BR  \\\n",
       "0                0.0            0.0            0.0            0.0   \n",
       "1                0.0            0.0            0.0            0.0   \n",
       "2                0.0            0.0            0.0            0.0   \n",
       "3                0.0            0.0            0.0            0.0   \n",
       "4                0.0            0.0            0.0            0.0   \n",
       "\n",
       "   Apparent_Power  Event_Flag_1  Event_Flag_2  Event_Flag_3  Event_Flag_4  \\\n",
       "0             0.0           0.0           0.0           0.0           0.0   \n",
       "1             0.0           0.0           0.0           0.0           0.0   \n",
       "2             0.0           0.0           0.0           0.0           0.0   \n",
       "3             0.0           0.0           0.0           0.0           0.0   \n",
       "4             0.0           0.0           0.0           0.0           0.0   \n",
       "\n",
       "   Coolent_Temp  \n",
       "0          34.0  \n",
       "1          34.0  \n",
       "2          34.0  \n",
       "3          34.0  \n",
       "4          34.0  \n",
       "\n",
       "[5 rows x 54 columns]"
      ]
     },
     "execution_count": 9,
     "metadata": {},
     "output_type": "execute_result"
    }
   ],
   "source": [
    "samp_path=r\"C:\\Users\\Adil\\Desktop\\Practice\\senergy\\sample_gen1\\[IN-023C]\\2023\\2023-02\\Inverter_1\\[IN-023C]-I1-2023-02-01.txt\"\n",
    "sample_output_df=pd.read_csv(samp_path,sep='\\t')\n",
    "sample_output_df.head()"
   ]
  },
  {
   "cell_type": "code",
   "execution_count": 10,
   "metadata": {},
   "outputs": [],
   "source": [
    "col_names=sample_output_df.columns"
   ]
  },
  {
   "cell_type": "code",
   "execution_count": 11,
   "metadata": {},
   "outputs": [],
   "source": [
    "samp_path2=r\"C:\\Users\\Adil\\Desktop\\Practice\\ecotech\\sample_gen1\\[IN-023C]\\2023\\2023-02\\MFM\\[IN-023C]-MFM1-2023-02-01.txt\"\n",
    "sample_output_df2=pd.read_csv(samp_path2,sep='\\t')\n",
    "col_names2=sample_output_df2.columns\n",
    "\n",

    "samp_path3=r\"C:\\Users\\Adil\\Desktop\\Practice\\senergy\\sample_gen1\\[IN-023C]\\2023\\2023-02\\WMS\\[IN-023C]-WMS-2023-02-01.txt\"\n",
    "sample_output_df3=pd.read_csv(samp_path3,sep='\\t')\n",
    "col_names3=sample_output_df3.columns"
   ]
  },
  {
   "cell_type": "code",
   "execution_count": 12,
   "metadata": {},
   "outputs": [],
   "source": [

    "def modify_in(path,files):\n",
    "    for file in files:\n",
    "        input_df=pd.read_csv(path+\"\\\\\"+file,sep = '\\t')\n",
    "        cols = list(input_df)\n",
    "        cols.insert(0, cols.pop(cols.index('i32')))\n",
    "        input_df = input_df.loc[:, cols]\n",
    "        input_df.columns=col_names\n",
    "        out_path=path.replace(\"raw\",\"output\")\n",
    "        input_df.to_csv(out_path+\"\\\\\"+file,index=None,sep='\\t')"
   ]
  },
  {
   "cell_type": "code",
   "execution_count": 13,
   "metadata": {},
   "outputs": [],
   "source": [

    "def modify_mfm(path,files):\n",
    "    for file in files:\n",
    "        input_df=pd.read_csv(path+\"\\\\\"+file,sep = '\\t')\n",
    "        cols = list(input_df)\n",
    "        cols.insert(0, cols.pop(cols.index('m63')))\n",
    "        input_df = input_df.loc[:, cols]\n",
    "        input_df.columns=col_names2\n",
    "        out_path=path.replace(\"raw\",\"output\")\n",
    "        input_df.to_csv(out_path+\"\\\\\"+file,index=None,sep='\\t')"
   ]
  },
  {
   "cell_type": "code",
   "execution_count": 14,
   "metadata": {},
   "outputs": [],
   "source": [

    "def modify_wms(path,files):\n",
    "    for file in files:\n",
    "        input_df=pd.read_csv(path+\"\\\\\"+file,sep = '\\t')\n",
    "        cols = list(input_df)\n",
    "        cols.insert(0, cols.pop(cols.index('w23')))\n",
    "        input_df = input_df.loc[:, cols]\n",
    "        input_df.columns=col_names3\n",
    "        out_path=path.replace(\"raw\",\"output\")\n",
    "        input_df.to_csv(out_path+\"\\\\\"+file,index=None,sep='\\t')"
   ]
  },
  {
   "cell_type": "code",
   "execution_count": 15,
   "metadata": {},
   "outputs": [],
   "source": [

    "for x in input_paths:\n",
    "    for y in meters:\n",
    "        path=x+y+\"\\\\\"\n",
    "        files=get_csv(path)\n",
    "        if \"Inverter\" in path:\n",
    "            modify_in(path,files)\n",
    "        elif \"MFM\" in path:\n",
    "            modify_mfm(path,files)\n",
    "        else:\n",
    "            modify_wms(path,files)"
   ]
  },
{
   "cell_type": "code",
   "execution_count": null,
   "metadata": {},
   "outputs": [],
   "source": []
  }
 ],
 "metadata": {
  "kernelspec": {
   "display_name": "Python 3",
   "language": "python",
   "name": "python3"
  },
  "language_info": {
   "codemirror_mode": {
    "name": "ipython",
    "version": 3
   },
   "file_extension": ".py",
   "mimetype": "text/x-python",
   "name": "python",
   "nbconvert_exporter": "python",
   "pygments_lexer": "ipython3",
   "version": "3.7.3"
  }
 },
 "nbformat": 4,
 "nbformat_minor": 2
}
